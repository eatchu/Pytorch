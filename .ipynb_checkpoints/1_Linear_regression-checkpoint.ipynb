{
 "cells": [
  {
   "cell_type": "markdown",
   "metadata": {},
   "source": [
    "---\n",
    "# *Linear Regression*\n",
    "---\n",
    "\n",
    " 1. ***Linear Regression : 선형 회귀***\n",
    " 2. ***Autograd : 자동 미분***\n",
    " 3. ***Multivariable Linear regression : 다중 선형 회귀***\n",
    " 4. ***nn.Module***\n",
    " 5. ***class***\n",
    " 6. ***Mini Batch and Data Load***\n",
    " 7. ***Custom Dataset***"
   ]
  },
  {
   "cell_type": "markdown",
   "metadata": {},
   "source": [
    "## ***1. Linear Regression***"
   ]
  },
  {
   "cell_type": "markdown",
   "metadata": {},
   "source": [
    "> requires_grad=True : 자동 미분 기능 적용, 즉 텐서에 대한 기울기 저장 <br> optimizer.zero_grad() : 누적되는 값을 초기화 <br> X.backward() : 해당(X)수식을 미분 <br> optimizer.step() <br> X.item()"
   ]
  },
  {
   "cell_type": "code",
   "execution_count": 2,
   "metadata": {},
   "outputs": [
    {
     "name": "stdout",
     "output_type": "stream",
     "text": [
      "torch.Size([3, 1])\n",
      "torch.Size([3, 1])\n",
      "tensor([[0.],\n",
      "        [0.],\n",
      "        [0.]], grad_fn=<AddBackward0>)\n",
      "tensor(18.6667, grad_fn=<MeanBackward0>)\n",
      "Epoch    0/2001 W: 0.187, b: 0.080 Cost: 18.666666\n",
      "Epoch  500/2001 W: 1.903, b: 0.221 Cost: 0.007024\n",
      "Epoch 1000/2001 W: 1.971, b: 0.066 Cost: 0.000633\n",
      "Epoch 1500/2001 W: 1.991, b: 0.020 Cost: 0.000057\n",
      "Epoch 2000/2001 W: 1.997, b: 0.006 Cost: 0.000005\n"
     ]
    }
   ],
   "source": [
    "import torch\n",
    "import torch.nn as nn\n",
    "import torch.nn.functional as F\n",
    "import torch.optim as optim\n",
    "torch.manual_seed(1)\n",
    "\n",
    "# dataset\n",
    "x_train = torch.FloatTensor([[1], [2], [3]])\n",
    "y_train = torch.FloatTensor([[2], [4], [6]])\n",
    "print(x_train.shape)\n",
    "print(y_train.shape)\n",
    "\n",
    "# 가중치 초기화\n",
    "W = torch.zeros(1, requires_grad=True) \n",
    "b = torch.zeros(1, requires_grad=True)\n",
    "\n",
    "# 가설 세우기\n",
    "hypothesis = x_train * W + b\n",
    "print(hypothesis)\n",
    "\n",
    "# 비용 함수 선언 : cost(W,b)=1/n∑([y(i)−H(x(i))]**2)\n",
    "cost = torch.mean((hypothesis - y_train) ** 2) # mse\n",
    "print(cost)\n",
    "\n",
    "# 경사하강법 구현\n",
    "optimizer = optim.SGD([W, b], lr=0.01)\n",
    "\n",
    "epochs = 2001\n",
    "for i in range(epochs):\n",
    "    # 가설설정\n",
    "    hypothesis = x_train * W + b\n",
    "    #비용함수 선언\n",
    "    cost = torch.mean((hypothesis - y_train) ** 2)\n",
    "    # gradient를 0으로 초기화\n",
    "    optimizer.zero_grad() \n",
    "    # 비용 함수를 미분하여 gradient 계산\n",
    "    cost.backward() \n",
    "    # W와 b를 업데이트\n",
    "    optimizer.step() \n",
    "    \n",
    "    # 100번마다 로그 출력\n",
    "    if i % 500 == 0:\n",
    "        print('Epoch {:4d}/{} W: {:.3f}, b: {:.3f} Cost: {:.6f}'.format(\n",
    "            i, epochs, W.item(), b.item(), cost.item()))"
   ]
  },
  {
   "cell_type": "markdown",
   "metadata": {},
   "source": [
    "## ***2. Autograd***\n",
    "\n",
    " - *파이토치에서는 미분 계산을 자동화하여 경사 하강법을 손쉽게 사용할 수 있게 함*"
   ]
  },
  {
   "cell_type": "code",
   "execution_count": 3,
   "metadata": {},
   "outputs": [
    {
     "name": "stdout",
     "output_type": "stream",
     "text": [
      "tensor(2., requires_grad=True)\n",
      "tensor(2., requires_grad=True) tensor(4., grad_fn=<PowBackward0>) tensor(13., grad_fn=<AddBackward0>)\n",
      "tensor(13., grad_fn=<AddBackward0>)\n",
      "수식을 w로 미분한 값 : 8.0\n"
     ]
    }
   ],
   "source": [
    "# requires_grad=True : 이 텐서에 대한 기울기를 저장\n",
    "# w.grad에 w의 미분값이 저장됨\n",
    "w = torch.tensor(2.0, requires_grad=True)\n",
    "print(w)\n",
    "\n",
    "y = w**2 # 4\n",
    "z = 2*y + 5 # 13\n",
    "print(w, y, z)\n",
    "\n",
    "z.backward()\n",
    "print(z)\n",
    "\n",
    "print('수식을 w로 미분한 값 : {}'.format(w.grad))"
   ]
  },
  {
   "cell_type": "markdown",
   "metadata": {},
   "source": [
    "## ***3. Multivariable Linear regression***\n",
    "\n",
    " 1. ***다중 선형 회귀 구현***\n",
    " 2. ***행렬 연산을 고려하여 다중 선형 회귀 구현***\n"
   ]
  },
  {
   "cell_type": "markdown",
   "metadata": {},
   "source": [
    "---\n",
    "##### ***1. 다중 선형 회귀 구현***\n",
    "\n",
    "\n",
    " - *최적의 학습률 : 1e-5*\n",
    "     - *더 작게 설정할 시 너무 느린 학습률 / 더 크게 설정할 시 결측치 발생*"
   ]
  },
  {
   "cell_type": "code",
   "execution_count": 13,
   "metadata": {},
   "outputs": [
    {
     "name": "stdout",
     "output_type": "stream",
     "text": [
      "Epoch    0/5000 w1: 0.294 w2: 0.294 w3: 0.297 b: 0.003 Cost: 29661.800781\n",
      "Epoch  500/5000 w1: 0.694 w2: 0.638 w3: 0.678 b: 0.009 Cost: 1.319511\n",
      "Epoch 1000/5000 w1: 0.718 w2: 0.613 w3: 0.680 b: 0.009 Cost: 1.079378\n",
      "Epoch 1500/5000 w1: 0.739 w2: 0.591 w3: 0.681 b: 0.010 Cost: 0.895453\n",
      "Epoch 2000/5000 w1: 0.757 w2: 0.571 w3: 0.682 b: 0.011 Cost: 0.754389\n",
      "Epoch 2500/5000 w1: 0.773 w2: 0.555 w3: 0.682 b: 0.011 Cost: 0.646035\n",
      "Epoch 3000/5000 w1: 0.788 w2: 0.541 w3: 0.682 b: 0.012 Cost: 0.562648\n",
      "Epoch 3500/5000 w1: 0.801 w2: 0.528 w3: 0.682 b: 0.012 Cost: 0.498317\n",
      "Epoch 4000/5000 w1: 0.812 w2: 0.517 w3: 0.681 b: 0.013 Cost: 0.448554\n",
      "Epoch 4500/5000 w1: 0.823 w2: 0.508 w3: 0.680 b: 0.014 Cost: 0.409898\n",
      "Epoch 5000/5000 w1: 0.832 w2: 0.500 w3: 0.678 b: 0.014 Cost: 0.379734\n"
     ]
    }
   ],
   "source": [
    "# 훈련 데이터\n",
    "x1_train = torch.FloatTensor([[73], [93], [89], [96], [73]])\n",
    "x2_train = torch.FloatTensor([[80], [88], [91], [98], [66]])\n",
    "x3_train = torch.FloatTensor([[75], [93], [90], [100], [70]])\n",
    "y_train = torch.FloatTensor([[152], [185], [180], [196], [142]])\n",
    "\n",
    "# 가중치 w와 편향 b 초기화\n",
    "w1 = torch.zeros(1, requires_grad=True)\n",
    "w2 = torch.zeros(1, requires_grad=True)\n",
    "w3 = torch.zeros(1, requires_grad=True)\n",
    "b = torch.zeros(1, requires_grad=True)\n",
    "\n",
    "# optimizer 구현\n",
    "optimizer = optim.SGD([w1, w2, w3, b], lr=1e-5)\n",
    "\n",
    "epochs = 5000\n",
    "for i in range(epochs + 1):\n",
    "    \n",
    "    hypothesis = x1_train * w1 + x2_train * w2 + x3_train * w3 + b\n",
    "    \n",
    "    cost = torch.mean((hypothesis - y_train) ** 2)\n",
    "    \n",
    "    optimizer.zero_grad()\n",
    "    cost.backward()\n",
    "    optimizer.step()\n",
    "    \n",
    "    if i % 500 == 0:\n",
    "        print('Epoch {:4d}/{} w1: {:.3f} w2: {:.3f} w3: {:.3f} b: {:.3f} Cost: {:.6f}'.format(\n",
    "            i, epochs, w1.item(), w2.item(), w3.item(), b.item(), cost.item()))"
   ]
  },
  {
   "cell_type": "markdown",
   "metadata": {},
   "source": [
    "##### ***2. 행렬 연산을 고려하여 다중 선형 회귀 구현***\n",
    "\n",
    "> X.squeeze().detach()"
   ]
  },
  {
   "cell_type": "code",
   "execution_count": 16,
   "metadata": {},
   "outputs": [
    {
     "name": "stdout",
     "output_type": "stream",
     "text": [
      "x shape :  torch.Size([5, 3])\n",
      "y shape :  torch.Size([5, 1])\n",
      "W shape :  torch.Size([3, 1])\n",
      "b shape :  torch.Size([1])\n",
      "hypothesis shape :  torch.Size([5, 1])\n"
     ]
    }
   ],
   "source": [
    "x_train  =  torch.FloatTensor([[73,  80,  75], \n",
    "                               [93,  88,  93], \n",
    "                               [89,  91,  80], \n",
    "                               [96,  98,  100],   \n",
    "                               [73,  66,  70]])  \n",
    "y_train  =  torch.FloatTensor([[152],  [185],  [180],  [196],  [142]])\n",
    "print('x shape : ', x_train.shape)\n",
    "print('y shape : ', y_train.shape)\n",
    "\n",
    "# 가중치와 편향 선언\n",
    "W = torch.zeros((3, 1), requires_grad=True)\n",
    "b = torch.zeros(1, requires_grad=True)\n",
    "print('W shape : ', W.shape)\n",
    "print('b shape : ', b.shape)\n",
    "\n",
    "hypothesis = x_train.matmul(W) + b\n",
    "print('hypothesis shape : ', hypothesis.shape)"
   ]
  },
  {
   "cell_type": "code",
   "execution_count": 18,
   "metadata": {},
   "outputs": [
    {
     "name": "stdout",
     "output_type": "stream",
     "text": [
      "Epoch    0/20 hypothesis: tensor([154.0543, 185.1140, 175.7470, 198.6150, 141.2166]) Cost: 5.954494\n",
      "Epoch    5/20 hypothesis: tensor([154.0545, 185.1137, 175.7535, 198.6133, 141.2178]) Cost: 5.941589\n",
      "Epoch   10/20 hypothesis: tensor([154.0538, 185.1123, 175.7588, 198.6104, 141.2181]) Cost: 5.928727\n",
      "Epoch   15/20 hypothesis: tensor([154.0530, 185.1109, 175.7641, 198.6075, 141.2184]) Cost: 5.915939\n",
      "Epoch   20/20 hypothesis: tensor([154.0523, 185.1094, 175.7694, 198.6045, 141.2187]) Cost: 5.903165\n"
     ]
    }
   ],
   "source": [
    "# optimizer 설정\n",
    "optimizer = optim.SGD([W, b], lr=1e-5)\n",
    "\n",
    "nb_epochs = 20\n",
    "for epoch in range(nb_epochs + 1):\n",
    "\n",
    "    # H(x) 계산\n",
    "    # 편향 b는 브로드 캐스팅되어 각 샘플에 더해집니다.\n",
    "    hypothesis = x_train.matmul(W) + b\n",
    "\n",
    "    # cost 계산\n",
    "    cost = torch.mean((hypothesis - y_train) ** 2)\n",
    "\n",
    "    # cost로 H(x) 개선\n",
    "    optimizer.zero_grad()\n",
    "    cost.backward()\n",
    "    optimizer.step()\n",
    "    \n",
    "    if epoch % 5 == 0:\n",
    "        print('Epoch {:4d}/{} hypothesis: {} Cost: {:.6f}'.format(\n",
    "            epoch, nb_epochs, hypothesis.squeeze().detach(), cost.item()\n",
    "        ))"
   ]
  }
 ],
 "metadata": {
  "kernelspec": {
   "display_name": "Python 3",
   "language": "python",
   "name": "python3"
  },
  "language_info": {
   "codemirror_mode": {
    "name": "ipython",
    "version": 3
   },
   "file_extension": ".py",
   "mimetype": "text/x-python",
   "name": "python",
   "nbconvert_exporter": "python",
   "pygments_lexer": "ipython3",
   "version": "3.7.9"
  }
 },
 "nbformat": 4,
 "nbformat_minor": 4
}
