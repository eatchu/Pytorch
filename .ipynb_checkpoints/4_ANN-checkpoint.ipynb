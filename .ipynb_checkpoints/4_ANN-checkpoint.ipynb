{
 "cells": [
  {
   "cell_type": "markdown",
   "metadata": {},
   "source": [
    "---\n",
    "# *Artificial Neural Network*\n",
    "---\n",
    "1. *Machine Learning*\n",
    "2. *Perceptron*\n",
    "3. *XOR : Single Layer Perceptron*\n",
    "4. *BackPropagation*\n",
    "5. *XOR : Multi Layer Perceptron*\n",
    "6. *Activation Fucntion*\n",
    "7. *Multi Layer Perceptron Digits*\n",
    "8. *Multi Layer Perceptron MNIST*\n",
    "9. *Overfitting*\n",
    "10. *Gradient Vanishing*"
   ]
  },
  {
   "cell_type": "code",
   "execution_count": 64,
   "metadata": {},
   "outputs": [],
   "source": [
    "import torch\n",
    "import torch.nn as nn\n",
    "from torch import optim\n",
    "import numpy as np \n",
    "import matplotlib.pyplot as plt \n",
    "from torch.utils.data import TensorDataset, DataLoader\n",
    "from sklearn.model_selection import train_test_split"
   ]
  },
  {
   "cell_type": "markdown",
   "metadata": {},
   "source": [
    "### ***1. Machine Learning***\n",
    "\n",
    " - *검증용 데이터는 모델의 성능을 조정하기 위한 용도. 과적합이 되고 있는지를 판단하거나 하이퍼파라미터를 조정하기 위해 사용됨. 검증용 데이터로 정확도를 검증하며 하이퍼파라미터를 튜닝함.*\n",
    " - *머신러닝의 많은 문제는 분류(binary / muiti-class)와 회귀(regression)으로 이루어짐*\n",
    " - *머신러닝은 크게 지도학습, 비지도학습, 강화학습으로 이루어짐*\n",
    " - *혼동행렬(confusion matrix)를 통해 정확도를 확인함*"
   ]
  },
  {
   "cell_type": "markdown",
   "metadata": {},
   "source": [
    "### ***2. Perceptron*** \n",
    "\n",
    " - *퍼셉트론은 프랑크 로젠블라트(Frank Rosenblatt)가 1957년에 제안한 초기 형태의 인공 신경망임*\n",
    " - *실제 신경 세포 뉴런에서의 신호를 전달하는 축삭돌기의 역할을 퍼셉트론에서는 가중치가 대신하며 큰 가중치를 가지는 입력값은 중요도가 크다고 판단*\n",
    " - *퍼셉트론의 활성화 함수는 계단함수이며 우리가 수행하게 될 인공뉴런과의 차이점은 이 활성화 함수의 차이임*\n",
    "      - $if \\sum_{i}^n W_i x_i + b >= 0 -> y = 1$\n",
    "      - $if \\sum_{i}^n W_i x_i + b < 0 -> y = 0$\n",
    "      \n",
    "> ***AND Gate :*** *두개의 입력값이 1인 경우에 1이 출력, 하나라도 0이면 0이 출력* <br>\n",
    "***NAND Gate :*** *두개의 입력값이 1인 경우에 0이 출력, 하나라도 0이면 1이 출력* <br>\n",
    "***OR Gate :*** *두개의 입력값이 0인 경우에 0이 출력, 하나라도 1이면 1이 출력* <br>\n",
    "***AND Gate :*** *두개의 입력값이 서로 다른 값을 가지는 경우에 1이 출력, 서로 같은 값을 가지면 0이 출력*\n",
    " \n",
    " \n",
    "#### *단층 퍼셉트론(Single layer Perceptron)*\n",
    " - *단층 퍼셉트론은 입력층과 출력층 두 단계로만 이루어진 구조라고 볼 수 있음*\n",
    " - *XOR 게이트 구현이 불가능함*\n",
    " - *단층 퍼셉트론은 직선으로만 영역을 나눌 수 있는데 XOR 게이트는 곡선, 비선형 영역 분리가 필요*\n",
    " \n",
    " \n",
    "#### *다층 퍼셉트론(Multi layer Perceptron)*\n",
    " - *XOR 게이트는 AND, NAND, OR 게이트를 조합하면 만들 수 있음. 즉 퍼셉트론 관점에서 층을 더 쌓는다면 구현이 가능.*\n",
    " - *입력층과 출력층 사이에 은닉층이 존재하는 개념을 다층 퍼셉트론이라고 함*\n",
    " - *은닉층을 2개 이상 가지는 신경망을 심층신경망(Deep Neural Network, DNN)이라고 함*"
   ]
  },
  {
   "cell_type": "code",
   "execution_count": 10,
   "metadata": {},
   "outputs": [
    {
     "name": "stdout",
     "output_type": "stream",
     "text": [
      "0 1 1 0\n"
     ]
    }
   ],
   "source": [
    "def multi_perceptron(x1, x2):\n",
    "    layer1_w1, layer1_w2, layer1_b = 0.5, 0.8, -0.9 # AND\n",
    "    layer2_w1, layer2_w2, layer2_b = -0.5, -0.8, 0.9 # NAND\n",
    "    layer3_w1, layer3_w2, layer3_b = 0.7, 0.6, -0.4 # OR\n",
    "    \n",
    "    nand_gate = x1*layer2_w1 + x2*layer2_w2 + layer2_b\n",
    "    nand_gate = 0 if nand_gate <= 0 else 1\n",
    "    or_gate = x1*layer3_w1 + x2*layer3_w2 + layer3_b\n",
    "    or_gate = 0 if or_gate <= 0 else 1\n",
    "    \n",
    "    and_gate = or_gate*layer1_w1 + nand_gate*layer1_w2 + layer1_b\n",
    "    \n",
    "    if and_gate <= 0:\n",
    "        return 0\n",
    "    else:\n",
    "        return 1\n",
    "\n",
    "print(multi_perceptron(0,0), multi_perceptron(0,1), multi_perceptron(1,0), multi_perceptron(1,1))"
   ]
  },
  {
   "cell_type": "markdown",
   "metadata": {},
   "source": [
    "### ***3. XOR : Single Layer Perceptron***\n",
    " - *단층 퍼셉트론으로는 XOR을 해결할 수 없어 일정 epoch이상에서 cost값이 줄어들지 않음*"
   ]
  },
  {
   "cell_type": "code",
   "execution_count": 13,
   "metadata": {},
   "outputs": [
    {
     "name": "stdout",
     "output_type": "stream",
     "text": [
      "0epoch : cost = 0.7576190233230591\n",
      "1000epoch : cost = 0.6931471824645996\n",
      "2000epoch : cost = 0.6931471824645996\n",
      "3000epoch : cost = 0.6931471824645996\n",
      "4000epoch : cost = 0.6931471824645996\n",
      "5000epoch : cost = 0.6931471824645996\n",
      "6000epoch : cost = 0.6931471824645996\n",
      "7000epoch : cost = 0.6931471824645996\n",
      "8000epoch : cost = 0.6931471824645996\n",
      "9000epoch : cost = 0.6931471824645996\n",
      "10000epoch : cost = 0.6931471824645996\n"
     ]
    }
   ],
   "source": [
    "# XOR : 입력값이 같으면 0 다르면 1\n",
    "X = torch.FloatTensor([[0, 0], [0, 1], [1, 0], [1, 1]])\n",
    "Y = torch.FloatTensor([[0], [1], [1], [0]])\n",
    "\n",
    "linear = nn.Linear(2, 1, bias=True)\n",
    "sigmoid = nn.Sigmoid()\n",
    "model = nn.Sequential(linear, sigmoid)\n",
    "\n",
    "# 비용 함수와 옵티마이저 정의\n",
    "criterion = torch.nn.BCELoss() # 이진분류에서 사용하는 cross entropy function\n",
    "optimizer = torch.optim.SGD(model.parameters(), lr=1)\n",
    "\n",
    "for step in range(10001): \n",
    "    optimizer.zero_grad()\n",
    "    hypothesis = model(X)\n",
    "\n",
    "    # 비용 함수\n",
    "    cost = criterion(hypothesis, Y)\n",
    "    cost.backward()\n",
    "    optimizer.step()\n",
    "\n",
    "    if step % 1000 == 0: # 100번째 에포크마다 비용 출력\n",
    "        print('{}epoch : cost = {}'.format(step, cost.item()))"
   ]
  },
  {
   "cell_type": "code",
   "execution_count": 14,
   "metadata": {},
   "outputs": [
    {
     "name": "stdout",
     "output_type": "stream",
     "text": [
      "모델의 출력값(Hypothesis): \n",
      " [[0.5]\n",
      " [0.5]\n",
      " [0.5]\n",
      " [0.5]]\n",
      "모델의 예측값(Predicted): \n",
      " [[0.]\n",
      " [0.]\n",
      " [0.]\n",
      " [0.]]\n",
      "실제값(Y): \n",
      " [[0.]\n",
      " [1.]\n",
      " [1.]\n",
      " [0.]]\n",
      "정확도(Accuracy):  0.5\n"
     ]
    }
   ],
   "source": [
    "# test\n",
    "with torch.no_grad():\n",
    "    hypothesis = model(x)\n",
    "    predict = (hypothesis > 0.5).float()\n",
    "    accuracy = (predict == y).float().mean()\n",
    "    print('모델의 출력값(Hypothesis): \\n', hypothesis.detach().numpy())\n",
    "    print('모델의 예측값(Predicted): \\n', predict.detach().numpy())\n",
    "    print('실제값(Y): \\n', y.numpy())\n",
    "    print('정확도(Accuracy): ', accuracy.item())"
   ]
  },
  {
   "cell_type": "markdown",
   "metadata": {},
   "source": [
    "### ***4. BackPropagation*** \n",
    "\n",
    "- *순전파*\n",
    "> $z1 = w1x1 + w2x2$ , &nbsp; $z2 = w3x1 + w4x2$ <br>\n",
    " $h1 = sigmoid(z1)$ , &nbsp; $h2 = sigmoid(z2)$ <br>\n",
    " $z3 = w5h1 + w6h2$ , &nbsp; $z4 = w7h1 + w8h2$ <br>\n",
    " $o1 = sigmoid(z3)$ , &nbsp; $o2 = sigmoid(z4)$ <br>\n",
    " $e1 = \\frac{1}{2}(o1 - y1)^2$ , &nbsp; $e2 = \\frac{1}{2}(o2 - y2)^2$ <br>\n",
    " $loss = e1 + e2$ <br>\n",
    "\n",
    "- *1차 역전파*\n",
    "> $w_n = \\frac{\\partial{loss}}{\\partial{w}} = \\frac{\\partial{e_n}}{\\partial{o_n}}  \\frac{\\partial{o_n}}{\\partial{z_n}}  \\frac{\\partial{z_n}}{\\partial{w_n}} = (o_n - y_n) o_n(1-o_n) h_n$ <br>\n",
    "$w = w - \\alpha w_n$\n",
    "\n",
    "- *2차 역전파*\n",
    "> $w_n = \\frac{\\partial{loss}}{\\partial{w_n}} = \\frac{\\partial{loss}}{\\partial{h_n}}  \\frac{\\partial{h_n}}{\\partial{z_n}}  \\frac{\\partial{z_n}}{\\partial{w_n}}$ <br>\n",
    "$\\frac{\\partial{loss}}{\\partial{h_n}} =  \\frac{\\partial{e_1}}{\\partial{o_1}}  \\frac{\\partial{o_1}}{\\partial{z_n}}  \\frac{\\partial{z_n}}{\\partial{h_n}} + \\frac{\\partial{e_2}}{\\partial{o_2}}  \\frac{\\partial{o_2}}{\\partial{z_n}}  \\frac{\\partial{z_n}}{\\partial{h_n}}$ <br>\n",
    "$w_n = [\\frac{\\partial{e_1}}{\\partial{o_1}}  \\frac{\\partial{o_1}}{\\partial{z_n}}  \\frac{\\partial{z_n}}{\\partial{h_n}} + \\frac{\\partial{e_2}}{\\partial{o_2}}  \\frac{\\partial{o_2}}{\\partial{z_n}}  \\frac{\\partial{z_n}}{\\partial{h_n}}] \\frac{\\partial{h_n}}{\\partial{z_n}}  \\frac{\\partial{z_n}}{\\partial{w_n}}$ <br>\n",
    "$w = w - \\alpha w_n$"
   ]
  },
  {
   "cell_type": "markdown",
   "metadata": {},
   "source": [
    "### ***5. XOR : Multi Layer Perceptron***"
   ]
  },
  {
   "cell_type": "code",
   "execution_count": 4,
   "metadata": {},
   "outputs": [
    {
     "name": "stdout",
     "output_type": "stream",
     "text": [
      "step0 : loss = 0.6948983669281006\n",
      "step1000 : loss = 0.6931380033493042\n",
      "step2000 : loss = 0.6931172013282776\n",
      "step3000 : loss = 0.6930763721466064\n",
      "step4000 : loss = 0.692910373210907\n",
      "step5000 : loss = 0.6820820569992065\n",
      "step6000 : loss = 0.0013020755723118782\n",
      "step7000 : loss = 0.00048405106645077467\n",
      "step8000 : loss = 0.00028928963001817465\n",
      "step9000 : loss = 0.00020401836081873626\n",
      "step10000 : loss = 0.00015668346895836294\n"
     ]
    }
   ],
   "source": [
    "x = torch.FloatTensor([[0,0], [1,0], [0,1], [1,1]])\n",
    "y = torch.FloatTensor([[0], [1], [1], [0]])\n",
    "\n",
    "model = nn.Sequential(\\\n",
    "                     nn.Linear(2, 10, bias=True), nn.Sigmoid(),\n",
    "                     nn.Linear(10, 10, bias=True), nn.Sigmoid(),\n",
    "                     nn.Linear(10, 10, bias=True), nn.Sigmoid(),\n",
    "                     nn.Linear(10, 1, bias=True), nn.Sigmoid())\n",
    "\n",
    "criterion = torch.nn.BCELoss()\n",
    "optimizer = torch.optim.SGD(model.parameters(), lr=1)\n",
    "\n",
    "for epoch in range(10001):\n",
    "    \n",
    "    hypothesis = model(x)\n",
    "    \n",
    "    cost = criterion(hypothesis, y)\n",
    "    \n",
    "    optimizer.zero_grad()\n",
    "    cost.backward()\n",
    "    optimizer.step()\n",
    "    \n",
    "    if epoch % 1000 == 0:\n",
    "        print('step{} : loss = {}'.format(epoch, cost.item()))"
   ]
  },
  {
   "cell_type": "code",
   "execution_count": 12,
   "metadata": {},
   "outputs": [
    {
     "name": "stdout",
     "output_type": "stream",
     "text": [
      "모델의 출력값(Hypothesis): \n",
      " [[1.11809066e-04]\n",
      " [9.99842167e-01]\n",
      " [9.99828577e-01]\n",
      " [1.85550103e-04]]\n",
      "모델의 예측값(Predicted): \n",
      " [[0.]\n",
      " [1.]\n",
      " [1.]\n",
      " [0.]]\n",
      "실제값(Y): \n",
      " [[0.]\n",
      " [1.]\n",
      " [1.]\n",
      " [0.]]\n",
      "정확도(Accuracy):  1.0\n"
     ]
    }
   ],
   "source": [
    "# test\n",
    "with torch.no_grad():\n",
    "    hypothesis = model(x)\n",
    "    predict = (hypothesis > 0.5).float()\n",
    "    accuracy = (predict == y).float().mean()\n",
    "    print('모델의 출력값(Hypothesis): \\n', hypothesis.detach().numpy())\n",
    "    print('모델의 예측값(Predicted): \\n', predict.detach().numpy())\n",
    "    print('실제값(Y): \\n', y.numpy())\n",
    "    print('정확도(Accuracy): ', accuracy.item())"
   ]
  },
  {
   "cell_type": "markdown",
   "metadata": {},
   "source": [
    "### ***6. Activation Function***\n",
    " - *활성화함수로 선형함수를 사용할 경우 : $f(x) = wx$라면 은닉층이 쌓일경우 $y(x) = f(f(f(x))) -> y(x) = w*w*w*x -> y(x) = kx$*\n",
    " - *인공신경망의 성능을 높이기 위해서는 은닉층을 계속해서 추가하며 그 역할을 잘 하기위해서는 비선형 활성화함수가 필요*\n",
    " \n",
    "##### ***`Sigmoid 함수`***\n",
    " - $p_i= \\frac {1} {1 + e^-x}$ <br>\n",
    "![](https://wikidocs.net/images/page/60683/%EC%8B%9C%EA%B7%B8%EB%AA%A8%EC%9D%B4%EB%93%9C%ED%95%A8%EC%88%982.PNG) *: 주황색 부분은 기울기를 계산하면 0에 가까운 값이 나오게되며 앞단에는 기울기가 잘 전달되지 않게 됨.*"
   ]
  },
  {
   "cell_type": "code",
   "execution_count": 29,
   "metadata": {},
   "outputs": [
    {
     "data": {
      "image/png": "[encoded data removed]",
      "text/plain": [
       "<Figure size 432x288 with 1 Axes>"
      ]
     },
     "metadata": {
      "needs_background": "light"
     },
     "output_type": "display_data"
    }
   ],
   "source": [
    "def sigmoid(x):\n",
    "    return 1 / (1 + np.exp(-x))\n",
    "\n",
    "x = np.arange(-5.0, 5.0, 0.1)\n",
    "y = sigmoid(x)\n",
    "    \n",
    "plt.plot(x, y)\n",
    "plt.plot([0,0], [1,0], ':')\n",
    "plt.axhline(y=0, color='orange', linestyle='--')\n",
    "plt.axhline(y=0.5, color='red', linestyle='--')\n",
    "plt.title('Sigmoid Function')\n",
    "plt.show()"
   ]
  },
  {
   "cell_type": "markdown",
   "metadata": {},
   "source": [
    "##### ***`Hyperbolic tangent 함수`***\n",
    "\n",
    " - *탄젠트 함수는 -1 ~ 1사이의 범위를 가지며 시그모이드와 같은 기울기 소실 문제를 가지고 있지만 시그모이드에 비해 변환폭이 크기 때문에 기울기 소실 증상이 비교적 적은편*"
   ]
  },
  {
   "cell_type": "code",
   "execution_count": 18,
   "metadata": {},
   "outputs": [
    {
     "data": {
      "image/png": "[encoded data removed]",
      "text/plain": [
       "<Figure size 432x288 with 1 Axes>"
      ]
     },
     "metadata": {
      "needs_background": "light"
     },
     "output_type": "display_data"
    }
   ],
   "source": [
    "x = np.arange(-5.0, 5.0, 0.1) # -5.0부터 5.0까지 0.1 간격 생성\n",
    "y = np.tanh(x)\n",
    "\n",
    "plt.plot(x, y)\n",
    "plt.plot([0,0],[1.0,-1.0], ':')\n",
    "plt.axhline(y=0, color='orange', linestyle='--')\n",
    "plt.title('Tanh Function')\n",
    "plt.show()"
   ]
  },
  {
   "cell_type": "markdown",
   "metadata": {},
   "source": [
    "##### ***`ReLU 함수`***\n",
    "\n",
    " - *$f(x) = max(0,x)$*\n",
    "     - *단순 임계값이므로 연산속도가 빠름*\n",
    "     - *하지만 입력값이 음수일 경우 기울기가 0이 되고 그 뉴런은 회생이 어려워 dying ReLU가 됨*"
   ]
  },
  {
   "cell_type": "code",
   "execution_count": 23,
   "metadata": {},
   "outputs": [
    {
     "data": {
      "image/png": "[encoded data removed]",
      "text/plain": [
       "<Figure size 432x288 with 1 Axes>"
      ]
     },
     "metadata": {
      "needs_background": "light"
     },
     "output_type": "display_data"
    }
   ],
   "source": [
    "def relu(x):\n",
    "    return np.maximum(0, x)\n",
    "\n",
    "x = np.arange(-5.0, 5.0, 0.1)\n",
    "y = relu(x)\n",
    "\n",
    "plt.plot(x, y)\n",
    "plt.axhline(y=0, color='orange', linestyle='--', alpha=0.7)\n",
    "plt.plot([0,0],[5.0,0.0], ':')\n",
    "plt.title('Relu Function')\n",
    "plt.show()"
   ]
  },
  {
   "cell_type": "markdown",
   "metadata": {},
   "source": [
    "##### ***`Leaky ReLU 함수`***\n",
    "\n",
    " - *$f(x) = max(ax,x) \\approx a = 0.01$*"
   ]
  },
  {
   "cell_type": "code",
   "execution_count": 26,
   "metadata": {},
   "outputs": [
    {
     "data": {
      "image/png": "[encoded data removed]",
      "text/plain": [
       "<Figure size 432x288 with 1 Axes>"
      ]
     },
     "metadata": {
      "needs_background": "light"
     },
     "output_type": "display_data"
    }
   ],
   "source": [
    "def leaky_relu(x):\n",
    "    return np.maximum(a*x, x)\n",
    "\n",
    "a = 0.1\n",
    "\n",
    "x = np.arange(-5.0, 5.0, 0.1)\n",
    "y = leaky_relu(x)\n",
    "\n",
    "plt.plot(x, y)\n",
    "plt.plot([0,0],[5.0,0.0], ':')\n",
    "plt.axhline(y=0, color='orange', linestyle='--', alpha=0.7)\n",
    "plt.title('Leaky ReLU Function')\n",
    "plt.show()"
   ]
  },
  {
   "cell_type": "markdown",
   "metadata": {},
   "source": [
    "##### ***`Softmax 함수`***\n",
    "\n",
    " - *$f(x) = \\frac {e^zi} {\\sum_{j=1}^K e^zj}$*"
   ]
  },
  {
   "cell_type": "code",
   "execution_count": 27,
   "metadata": {},
   "outputs": [
    {
     "data": {
      "image/png": "[encoded data removed]",
      "text/plain": [
       "<Figure size 432x288 with 1 Axes>"
      ]
     },
     "metadata": {
      "needs_background": "light"
     },
     "output_type": "display_data"
    }
   ],
   "source": [
    "x = np.arange(-5.0, 5.0, 0.1) # -5.0부터 5.0까지 0.1 간격 생성\n",
    "y = np.exp(x) / np.sum(np.exp(x))\n",
    "\n",
    "plt.plot(x, y)\n",
    "plt.title('Softmax Function')\n",
    "plt.show()"
   ]
  },
  {
   "cell_type": "markdown",
   "metadata": {},
   "source": [
    "### ***7. Multi Layer perceptron Digits***"
   ]
  },
  {
   "cell_type": "code",
   "execution_count": 50,
   "metadata": {},
   "outputs": [
    {
     "name": "stdout",
     "output_type": "stream",
     "text": [
      "(8, 8)\n",
      "[0, 1, 2, 3, 4, 5, 6, 7, 8, 9]\n",
      "전체 샘플의 수 : 1797\n"
     ]
    }
   ],
   "source": [
    "from sklearn.datasets import load_digits\n",
    "digits = load_digits() \n",
    "print(digits.images[0].shape)\n",
    "print(list(set(digits.target)))\n",
    "print('전체 샘플의 수 : {}'.format(len(digits.images)))"
   ]
  },
  {
   "cell_type": "code",
   "execution_count": 51,
   "metadata": {},
   "outputs": [
    {
     "data": {
      "image/png": "[encoded data removed]",
      "text/plain": [
       "<Figure size 432x288 with 5 Axes>"
      ]
     },
     "metadata": {
      "needs_background": "light"
     },
     "output_type": "display_data"
    }
   ],
   "source": [
    "images_and_labels = list(zip(digits.images, digits.target))\n",
    "for index, (image, label) in enumerate(images_and_labels[:5]): # 5개의 샘플만 출력\n",
    "    plt.subplot(2, 5, index + 1)\n",
    "    plt.axis('off')\n",
    "    plt.imshow(image, cmap=plt.cm.gray_r, interpolation='nearest')\n",
    "    plt.title('sample: %i' % label)"
   ]
  },
  {
   "cell_type": "code",
   "execution_count": 52,
   "metadata": {},
   "outputs": [],
   "source": [
    "X = digits.data # 이미지. 즉, 특성 행렬 8 x 8 = 64\n",
    "Y = digits.target # 각 이미지에 대한 레이블"
   ]
  },
  {
   "cell_type": "code",
   "execution_count": 54,
   "metadata": {},
   "outputs": [
    {
     "name": "stderr",
     "output_type": "stream",
     "text": [
      "C:\\Users\\ntels\\Anaconda3\\lib\\site-packages\\ipykernel_launcher.py:9: UserWarning: To copy construct from a tensor, it is recommended to use sourceTensor.clone().detach() or sourceTensor.clone().detach().requires_grad_(True), rather than torch.tensor(sourceTensor).\n",
      "  if __name__ == '__main__':\n",
      "C:\\Users\\ntels\\Anaconda3\\lib\\site-packages\\ipykernel_launcher.py:10: UserWarning: To copy construct from a tensor, it is recommended to use sourceTensor.clone().detach() or sourceTensor.clone().detach().requires_grad_(True), rather than torch.tensor(sourceTensor).\n",
      "  # Remove the CWD from sys.path while we load stuff.\n"
     ]
    },
    {
     "name": "stdout",
     "output_type": "stream",
     "text": [
      "Epoch    0/100 Cost: 2.465505\n",
      "Epoch   10/100 Cost: 2.057665\n",
      "Epoch   20/100 Cost: 1.810181\n",
      "Epoch   30/100 Cost: 1.544434\n",
      "Epoch   40/100 Cost: 1.253649\n",
      "Epoch   50/100 Cost: 0.944341\n",
      "Epoch   60/100 Cost: 0.682494\n",
      "Epoch   70/100 Cost: 0.493152\n",
      "Epoch   80/100 Cost: 0.366647\n",
      "Epoch   90/100 Cost: 0.283613\n"
     ]
    },
    {
     "data": {
      "image/png": "[encoded data removed]",
      "text/plain": [
       "<Figure size 432x288 with 1 Axes>"
      ]
     },
     "metadata": {
      "needs_background": "light"
     },
     "output_type": "display_data"
    }
   ],
   "source": [
    "model = nn.Sequential(\n",
    "    nn.Linear(64, 32), # input_layer = 64, hidden_layer1 = 32\n",
    "    nn.ReLU(),\n",
    "    nn.Linear(32, 16), # hidden_layer2 = 32, hidden_layer3 = 16\n",
    "    nn.ReLU(),\n",
    "    nn.Linear(16, 10) # hidden_layer3 = 16, output_layer = 10\n",
    ")\n",
    "\n",
    "X = torch.tensor(X, dtype=torch.float32)\n",
    "Y = torch.tensor(Y, dtype=torch.int64)\n",
    "\n",
    "loss_fn = nn.CrossEntropyLoss()\n",
    "optimizer = optim.Adam(model.parameters())\n",
    "losses = []\n",
    "\n",
    "for epoch in range(100):\n",
    "    \n",
    "    y_pred = model(X)\n",
    "    \n",
    "    loss = loss_fn(y_pred, Y)\n",
    "    \n",
    "    optimizer.zero_grad()\n",
    "    loss.backward()\n",
    "    optimizer.step()\n",
    "\n",
    "    if epoch % 10 == 0:\n",
    "        print('Epoch {:4d}/{} Cost: {:.6f}'.format(epoch, 100, loss.item()))\n",
    "\n",
    "    losses.append(loss.item())\n",
    "\n",
    "plt.plot(losses)\n",
    "plt.show()"
   ]
  },
  {
   "cell_type": "markdown",
   "metadata": {},
   "source": [
    "### ***8. Multi Layer perceptron MNIST***"
   ]
  },
  {
   "cell_type": "code",
   "execution_count": 62,
   "metadata": {},
   "outputs": [
    {
     "name": "stdout",
     "output_type": "stream",
     "text": [
      "(784,)\n",
      "['2', '6', '5', '1', '7', '9', '3', '0', '4', '8']\n",
      "전체 샘플의 수 : 70000\n"
     ]
    }
   ],
   "source": [
    "from sklearn.datasets import fetch_openml\n",
    "mnist = fetch_openml('mnist_784', version=1, cache=True)\n",
    "print(mnist.data[0].shape)\n",
    "print(list(set(mnist.target)))\n",
    "print('전체 샘플의 수 : {}'.format(len(mnist.data)))"
   ]
  },
  {
   "cell_type": "code",
   "execution_count": 63,
   "metadata": {},
   "outputs": [
    {
     "name": "stdout",
     "output_type": "stream",
     "text": [
      "이 이미지 데이터의 레이블은 5이다\n"
     ]
    },
    {
     "data": {
      "image/png": "[encoded data removed]",
      "text/plain": [
       "<Figure size 432x288 with 1 Axes>"
      ]
     },
     "metadata": {
      "needs_background": "light"
     },
     "output_type": "display_data"
    }
   ],
   "source": [
    "mnist.target = mnist.target.astype(np.int8)\n",
    "\n",
    "X = mnist.data / 255  # 0-255값을 [0,1] 구간으로 정규화\n",
    "y = mnist.target\n",
    "\n",
    "plt.imshow(X[0].reshape(28, 28), cmap='gray')\n",
    "print(\"이 이미지 데이터의 레이블은 {:.0f}이다\".format(y[0]))"
   ]
  },
  {
   "cell_type": "code",
   "execution_count": 65,
   "metadata": {},
   "outputs": [
    {
     "name": "stdout",
     "output_type": "stream",
     "text": [
      "train set count : 60000 / test set count : 10000\n"
     ]
    }
   ],
   "source": [
    "X_train, X_test, y_train, y_test = train_test_split(X, y, test_size=1/7, random_state=0)\n",
    "\n",
    "X_train = torch.Tensor(X_train)\n",
    "X_test = torch.Tensor(X_test)\n",
    "y_train = torch.LongTensor(y_train)\n",
    "y_test = torch.LongTensor(y_test)\n",
    "\n",
    "ds_train = TensorDataset(X_train, y_train)\n",
    "ds_test = TensorDataset(X_test, y_test)\n",
    "\n",
    "loader_train = DataLoader(ds_train, batch_size=64, shuffle=True)\n",
    "loader_test = DataLoader(ds_test, batch_size=64, shuffle=False)\n",
    "print('train set count : {} / test set count : {}'.format(len(X_train), len(X_test)))"
   ]
  },
  {
   "cell_type": "code",
   "execution_count": 67,
   "metadata": {},
   "outputs": [
    {
     "name": "stdout",
     "output_type": "stream",
     "text": [
      "Sequential(\n",
      "  (fc1): Linear(in_features=784, out_features=100, bias=True)\n",
      "  (relu1): ReLU()\n",
      "  (fc2): Linear(in_features=100, out_features=100, bias=True)\n",
      "  (relu2): ReLU()\n",
      "  (fc3): Linear(in_features=100, out_features=10, bias=True)\n",
      ")\n"
     ]
    }
   ],
   "source": [
    "model = nn.Sequential()\n",
    "model.add_module('fc1', nn.Linear(28*28*1, 100))\n",
    "model.add_module('relu1', nn.ReLU())\n",
    "model.add_module('fc2', nn.Linear(100, 100))\n",
    "model.add_module('relu2', nn.ReLU())\n",
    "model.add_module('fc3', nn.Linear(100, 10))\n",
    "\n",
    "print(model)\n",
    "\n",
    "# 오차함수 선택 : softmax\n",
    "loss_fn = nn.CrossEntropyLoss() \n",
    "\n",
    "# 가중치를 학습하기 위한 최적화 기법 선택\n",
    "optimizer = optim.Adam(model.parameters(), lr=0.01)"
   ]
  },
  {
   "cell_type": "code",
   "execution_count": 66,
   "metadata": {},
   "outputs": [],
   "source": [
    "def train(epoch):\n",
    "    model.train()  # 신경망을 학습 모드로 전환\n",
    "\n",
    "    # 데이터로더에서 미니배치를 하나씩 꺼내 학습을 수행\n",
    "    for data, targets in loader_train:\n",
    "\n",
    "        optimizer.zero_grad()  # 경사를 0으로 초기화\n",
    "        outputs = model(data)  # 데이터를 입력하고 출력을 계산\n",
    "        loss = loss_fn(outputs, targets)  # 출력과 훈련 데이터 정답 간의 오차를 계산\n",
    "        loss.backward()  # 오차를 역전파 계산\n",
    "        optimizer.step()  # 역전파 계산한 값으로 가중치를 수정\n",
    "\n",
    "#     print(\"epoch{}：완료\\n\".format(epoch))\n",
    "    \n",
    "    \n",
    "def test():\n",
    "    model.eval()  # 신경망을 추론 모드로 전환\n",
    "    correct = 0\n",
    "\n",
    "    # 데이터로더에서 미니배치를 하나씩 꺼내 추론을 수행\n",
    "    with torch.no_grad():  # 추론 과정에는 미분이 필요없음\n",
    "        for data, targets in loader_test:\n",
    "\n",
    "            outputs = model(data)  # 데이터를 입력하고 출력을 계산\n",
    "\n",
    "            # 추론 계산\n",
    "            _, predicted = torch.max(outputs.data, 1)  # value, index = torch.max(data, dim)\n",
    "            correct += predicted.eq(targets.data.view_as(predicted)).sum()  # 정답과 일치한 경우 정답 카운트를 증가\n",
    "\n",
    "    # 정확도 출력\n",
    "    data_num = len(loader_test.dataset)  # 데이터 총 건수\n",
    "    print('\\n테스트 데이터에서 예측 정확도: {}/{} ({:.0f}%)\\n'.format(correct,\n",
    "                                                   data_num, 100. * correct / data_num))"
   ]
  },
  {
   "cell_type": "code",
   "execution_count": 68,
   "metadata": {},
   "outputs": [
    {
     "name": "stdout",
     "output_type": "stream",
     "text": [
      "\n",
      "테스트 데이터에서 예측 정확도: 768/10000 (8%)\n",
      "\n"
     ]
    }
   ],
   "source": [
    "# 아무 학습도 진행되지 않은 test set에서의 정확도\n",
    "test()"
   ]
  },
  {
   "cell_type": "code",
   "execution_count": 69,
   "metadata": {},
   "outputs": [
    {
     "name": "stdout",
     "output_type": "stream",
     "text": [
      "\n",
      "테스트 데이터에서 예측 정확도: 9645/10000 (96%)\n",
      "\n"
     ]
    }
   ],
   "source": [
    "# 10epochs 학습을 통한 test set에서의 정확도\n",
    "for epoch in range(10):\n",
    "    train(epoch)\n",
    "\n",
    "test()"
   ]
  },
  {
   "cell_type": "code",
   "execution_count": 84,
   "metadata": {},
   "outputs": [
    {
     "name": "stdout",
     "output_type": "stream",
     "text": [
      "예측 결과 : 6\n",
      "이 이미지 데이터의 정답 레이블은 6입니다\n"
     ]
    },
    {
     "data": {
      "image/png": "[encoded data removed]",
      "text/plain": [
       "<Figure size 432x288 with 1 Axes>"
      ]
     },
     "metadata": {
      "needs_background": "light"
     },
     "output_type": "display_data"
    }
   ],
   "source": [
    "index = 2021\n",
    "\n",
    "model.eval()  # 신경망을 추론 모드로 전환\n",
    "data = X_test[index]\n",
    "output = model(data)  # 데이터를 입력하고 출력을 계산\n",
    "_, predicted = torch.max(output.data, 0)  # value, index = torch.max(data, dim)\n",
    "\n",
    "print(\"예측 결과 : {}\".format(predicted))\n",
    "\n",
    "X_test_show = (X_test[index]).numpy()\n",
    "plt.imshow(X_test_show.reshape(28, 28), cmap='gray')\n",
    "print(\"이 이미지 데이터의 정답 레이블은 {:.0f}입니다\".format(y_test[index]))"
   ]
  },
  {
   "cell_type": "markdown",
   "metadata": {},
   "source": [
    "### ***9. Overfitting***\n",
    " 1. *데이터 증식 Data Augmentation*\n",
    " 2. *모델의 복잡도 감소*\n",
    " 3. *가중치 규제 Regularization 적용*\n",
    "      - *L1(Lasso) 규제 : 가중치 w들의 절대값 합계를 비용 함수에 추가 : $cost = loss + \\lambda \\sum_{i=0}^n |w_i|$*\n",
    "           - *특정 가중치를 0으로 만드는 경향이 있어 모델의 결과에 영향을 많이 주지 못하는 특성이 제거됨*\n",
    "           - *어떤 특성들이 모델에 영향을 주고 있는지 판단하고자 할때 유용*\n",
    "      - *L2(Lidge) 규제 : 모든 가중치 w들의 제곱합을 비용 함수에 추가 : $cost = loss + \\lambda \\sum_{i=0}^n w_i^2$*\n",
    "           - *가중치의 제곱을 최소화하므로 가중치가 완전히 0이 되기보다는 0에 가까워짐*\n",
    "           \n",
    "> *optimizer = torch.optim.Adam(model.parameters(), lr=1e-4,* ***weight_decay=1e-5*** *)*\n",
    "\n",
    " 4. *드롭아웃 Dropout*\n",
    "      - *지정한 비율만큼 랜덤으로 뉴런을 끊어버림*\n",
    "      - *드롭아웃은 신경망 학습 시에만 적용하고 예측 시에는 적용하지 않음*\n",
    "      - *신경망이 특정 뉴런이나 특정 조합에 의존적이게 되는것을 방지하므로 과적합을 방지*"
   ]
  },
  {
   "cell_type": "markdown",
   "metadata": {},
   "source": [
    "### ***10. Gradient Vanishing and Exploding***"
   ]
  }
 ],
 "metadata": {
  "kernelspec": {
   "display_name": "Python 3",
   "language": "python",
   "name": "python3"
  },
  "language_info": {
   "codemirror_mode": {
    "name": "ipython",
    "version": 3
   },
   "file_extension": ".py",
   "mimetype": "text/x-python",
   "name": "python",
   "nbconvert_exporter": "python",
   "pygments_lexer": "ipython3",
   "version": "3.7.9"
  },
  "toc": {
   "base_numbering": 1,
   "nav_menu": {},
   "number_sections": true,
   "sideBar": true,
   "skip_h1_title": false,
   "title_cell": "Table of Contents",
   "title_sidebar": "Contents",
   "toc_cell": false,
   "toc_position": {
    "height": "calc(100% - 180px)",
    "left": "10px",
    "top": "150px",
    "width": "374.391px"
   },
   "toc_section_display": true,
   "toc_window_display": true
  }
 },
 "nbformat": 4,
 "nbformat_minor": 4
}
